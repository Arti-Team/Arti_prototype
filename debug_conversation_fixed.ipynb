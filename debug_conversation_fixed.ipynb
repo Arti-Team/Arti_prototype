{
 "cells": [
  {
   "cell_type": "markdown",
   "metadata": {},
   "source": [
    "# Art Docent 대화 디버깅\n",
    "\n",
    "이 노트북에서 직접 대화를 시뮬레이션하며 post-curation 문제를 디버깅해보겠습니다."
   ]
  },
  {
   "cell_type": "code",
   "execution_count": null,
   "metadata": {},
   "outputs": [
    {
     "ename": "",
     "evalue": "",
     "output_type": "error",
     "traceback": [
      "\u001b[1;31mFailed to start the Kernel. \n",
      "\u001b[1;31mKernel arti_chatbot (Python 3.11.11) is not usable. Check the Jupyter output tab for more information. \n",
      "\u001b[1;31mView Jupyter <a href='command:jupyter.viewOutput'>log</a> for further details."
     ]
    }
   ],
   "source": [
    "import os\n",
    "import asyncio\n",
    "from dotenv import load_dotenv\n",
    "\n",
    "# 환경변수 로드\n",
    "load_dotenv()\n",
    "\n",
    "print(\"Environment loaded successfully!\")\n",
    "print(f\"OpenAI API Key loaded: {'Yes' if os.getenv('OPENAI_API_KEY') else 'No'}\")"
   ]
  },
  {
   "cell_type": "code",
   "execution_count": null,
   "metadata": {},
   "outputs": [],
   "source": [
    "# emotional_art_graph 모듈 임포트\n",
    "from emotional_art_graph import graph, EmotionalArtState\n",
    "from langchain_core.messages import HumanMessage, AIMessage\n",
    "\n",
    "print(\"Graph imported successfully!\")"
   ]
  },
  {
   "cell_type": "code",
   "execution_count": null,
   "metadata": {},
   "outputs": [],
   "source": [
    "# 초기 상태 설정\n",
    "initial_state = {\n",
    "    \"messages\": [],\n",
    "    \"emotion_hints\": [],\n",
    "    \"situation_hints\": [],\n",
    "    \"conversation_depth\": 0\n",
    "}\n",
    "\n",
    "# 설정\n",
    "config = {\n",
    "    \"configurable\": {\n",
    "        \"thread_id\": \"debug_thread\",\n",
    "        \"user_id\": \"debug_user\"\n",
    "    }\n",
    "}\n",
    "\n",
    "print(\"Initial state and config ready!\")"
   ]
  },
  {
   "cell_type": "markdown",
   "metadata": {},
   "source": [
    "## 대화 시뮬레이션 함수"
   ]
  },
  {
   "cell_type": "code",
   "execution_count": null,
   "metadata": {},
   "outputs": [],
   "source": [
    "async def send_message(user_input, current_state):\n",
    "    \"\"\"사용자 메시지를 보내고 응답을 받는 함수\"\"\"\n",
    "    \n",
    "    # 사용자 메시지 추가\n",
    "    new_messages = current_state[\"messages\"] + [HumanMessage(content=user_input)]\n",
    "    new_state = {**current_state, \"messages\": new_messages}\n",
    "    \n",
    "    print(f\"\\n🧑 USER: {user_input}\")\n",
    "    print(\"=\"*50)\n",
    "    \n",
    "    # 그래프 실행\n",
    "    result = await graph.ainvoke(new_state, config)\n",
    "    \n",
    "    # 결과 출력\n",
    "    if result[\"messages\"]:\n",
    "        last_message = result[\"messages\"][-1]\n",
    "        if isinstance(last_message, AIMessage):\n",
    "            print(f\"🤖 AI: {last_message.content}\")\n",
    "    \n",
    "    # 상태 정보 출력\n",
    "    print(\"\\n📊 STATE INFO:\")\n",
    "    print(f\"  - Current Phase: {result.get('current_phase', 'None')}\")\n",
    "    print(f\"  - Conversation Depth: {result.get('conversation_depth', 0)}\")\n",
    "    print(f\"  - Consent for Reco: {result.get('consent_for_reco', 'None')}\")\n",
    "    print(f\"  - Final Situation: {bool(result.get('final_situation'))}\")\n",
    "    print(f\"  - Final Emotions: {bool(result.get('final_emotions'))}\")\n",
    "    print(f\"  - Emotion Hints: {result.get('emotion_hints', [])}\")\n",
    "    print(f\"  - Situation Hints: {result.get('situation_hints', [])}\")\n",
    "    \n",
    "    return result\n",
    "\n",
    "print(\"Message sending function ready!\")"
   ]
  },
  {
   "cell_type": "markdown",
   "metadata": {},
   "source": [
    "## 1단계: 인사 및 초기 대화"
   ]
  },
  {
   "cell_type": "code",
   "execution_count": null,
   "metadata": {},
   "outputs": [],
   "source": [
    "# 첫 번째 메시지\n",
    "state = await send_message(\"hello\", initial_state)"
   ]
  },
  {
   "cell_type": "code",
   "execution_count": null,
   "metadata": {},
   "outputs": [],
   "source": [
    "# 두 번째 메시지 - 감정 상태 공유\n",
    "state = await send_message(\n",
    "    \"Hey… thanks for asking. It's been one of those long days, you know? Meetings, messages, and a dozen decisions waiting to be made. I keep telling myself this is what I wanted when I started my company, but lately, it's hard to feel that same spark.\", \n",
    "    state\n",
    ")"
   ]
  },
  {
   "cell_type": "code",
   "execution_count": null,
   "metadata": {},
   "outputs": [],
   "source": [
    "# 세 번째 메시지 - 더 깊은 대화\n",
    "state = await send_message(\n",
    "    \"I used to sketch a lot — nothing fancy, just pencil and paper. It helped me slow down and notice things. But lately, even when I try, my mind keeps drifting back to work. It's like I can't switch off the builder mode. Sometimes I go for a walk late at night, when the city's quiet. That helps a bit.\", \n",
    "    state\n",
    ")"
   ]
  },
  {
   "cell_type": "code",
   "execution_count": null,
   "metadata": {},
   "outputs": [],
   "source": [
    "# 네 번째 메시지 - 더 많은 감정 공유\n",
    "state = await send_message(\n",
    "    \"Yeah… I guess that's what I'm missing lately — that little escape. When I first started, building the company itself felt like art — every idea, every design decision was creative. But now it's mostly logistics, funding, and deadlines. It's hard to find that same sense of flow. Sometimes I wonder if I've turned something that used to heal me into something that drains me.\", \n",
    "    state\n",
    ")"
   ]
  },
  {
   "cell_type": "markdown",
   "metadata": {},
   "source": [
    "## 2단계: 아트 추천 요청"
   ]
  },
  {
   "cell_type": "code",
   "execution_count": null,
   "metadata": {},
   "outputs": [],
   "source": [
    "# 아트 추천 요청\n",
    "state = await send_message(\"can you recommend me any artwork now?\", state)"
   ]
  },
  {
   "cell_type": "code",
   "execution_count": null,
   "metadata": {},
   "outputs": [],
   "source": [
    "# 아트 추천 동의\n",
    "state = await send_message(\"yes please.\", state)"
   ]
  },
  {
   "cell_type": "code",
   "execution_count": null,
   "metadata": {},
   "outputs": [],
   "source": [
    "ㅁㄴㅇㄹ"
   ]
  },
  {
   "cell_type": "markdown",
   "metadata": {},
   "source": [
    "## 3단계: 아트 큐레이션 후 - 문제 재현"
   ]
  },
  {
   "cell_type": "code",
   "execution_count": null,
   "metadata": {},
   "outputs": [],
   "source": [
    "# 여기서 문제가 발생해야 함 - 아트 관련 질문인데 부적절한 응답이 나오는지 확인\n",
    "print(\"\\n\" + \"=\"*60)\n",
    "print(\"🎯 CRITICAL TEST: Post-curation art question\")\n",
    "print(\"Expected: Helpful art guidance\")\n",
    "print(\"Bug: 'Totally get it!' generic response\")\n",
    "print(\"=\"*60)\n",
    "\n",
    "state = await send_message(\"can you first teach me how to draw portraits?\", state)"
   ]
  },
  {
   "cell_type": "markdown",
   "metadata": {},
   "source": [
    "## 디버깅: Phase Detection 함수 직접 테스트"
   ]
  },
  {
   "cell_type": "code",
   "execution_count": null,
   "metadata": {},
   "outputs": [],
   "source": [
    "# Phase Manager 직접 테스트\n",
    "from emotional_art_graph import ConversationPhaseManager\n",
    "from langchain_openai import ChatOpenAI\n",
    "\n",
    "llm = ChatOpenAI(model=\"gpt-4o-mini\", temperature=0.7)\n",
    "phase_manager = ConversationPhaseManager(llm)\n",
    "\n",
    "# 현재 상태로 phase detection 테스트\n",
    "detected_phase = await phase_manager.detect_phase(state)\n",
    "print(f\"\\n🔍 DETECTED PHASE: {detected_phase}\")\n",
    "print(f\"Current phase in state: {state.get('current_phase', 'None')}\")\n",
    "print(f\"\\n📋 KEY STATE VALUES:\")\n",
    "print(f\"  - final_situation: {state.get('final_situation', 'None')}\")\n",
    "print(f\"  - final_emotions: {state.get('final_emotions', 'None')}\")\n",
    "print(f\"  - consent_for_reco: {state.get('consent_for_reco', 'None')}\")\n",
    "print(f\"  - current_phase: {state.get('current_phase', 'None')}\")"
   ]
  },
  {
   "cell_type": "markdown",
   "metadata": {},
   "source": [
    "## 추가 테스트: 다양한 메시지로 post-curation 상태 테스트"
   ]
  },
  {
   "cell_type": "code",
   "execution_count": null,
   "metadata": {},
   "outputs": [],
   "source": [
    "# 다른 아트 관련 질문들 테스트\n",
    "test_messages = [\n",
    "    \"What colors work best for beginners?\",\n",
    "    \"How do I get started with watercolor painting?\",\n",
    "    \"Tell me about perspective in drawing\",\n",
    "    \"What art supplies should I buy?\"\n",
    "]\n",
    "\n",
    "for i, msg in enumerate(test_messages, 1):\n",
    "    print(f\"\\n\\n🧪 TEST {i}: {msg}\")\n",
    "    print(\"=\"*60)\n",
    "    test_state = await send_message(msg, state)\n",
    "    \n",
    "    # 각 테스트 후 phase detection 확인\n",
    "    detected = await phase_manager.detect_phase(test_state)\n",
    "    print(f\"\\n🔍 Phase detected for this test: {detected}\")\n",
    "    \n",
    "    await asyncio.sleep(0.5)  # 요청 간격"
   ]
  },
  {
   "cell_type": "markdown",
   "metadata": {},
   "source": [
    "## 상태 분석"
   ]
  },
  {
   "cell_type": "code",
   "execution_count": null,
   "metadata": {},
   "outputs": [],
   "source": [
    "# 최종 상태 상세 분석\n",
    "print(\"\\n\" + \"=\"*60)\n",
    "print(\"📋 FINAL STATE ANALYSIS\")\n",
    "print(\"=\"*60)\n",
    "\n",
    "for key, value in state.items():\n",
    "    if key == \"messages\":\n",
    "        print(f\"\\n📨 Messages ({len(value)} total):\")\n",
    "        for i, msg in enumerate(value[-5:], 1):  # 마지막 5개만 표시\n",
    "            msg_type = \"🧑 Human\" if isinstance(msg, HumanMessage) else \"🤖 AI\"\n",
    "            content = msg.content[:100] + \"...\" if len(str(msg.content)) > 100 else msg.content\n",
    "            print(f\"  {i}. {msg_type}: {content}\")\n",
    "    else:\n",
    "        print(f\"\\n{key}: {value}\")"
   ]
  }
 ],
 "metadata": {
  "kernelspec": {
   "display_name": "arti_chatbot",
   "language": "python",
   "name": "python3"
  },
  "language_info": {
   "codemirror_mode": {
    "name": "ipython",
    "version": 3
   },
   "file_extension": ".py",
   "mimetype": "text/x-python",
   "name": "python",
   "nbconvert_exporter": "python",
   "pygments_lexer": "ipython3",
   "version": "3.11.11"
  }
 },
 "nbformat": 4,
 "nbformat_minor": 2
}
